{
 "cells": [
  {
   "cell_type": "markdown",
   "metadata": {},
   "source": [
    "# 메소드 없는 세상 <1>\n",
    "\n",
    "> 알파벳으로 이뤄진 word를 입력받아 알파벳 대소문자를 서로 교환한 결과를 반환하는 `my_swapcase(word)`를 작성해주세요.\n",
    "\n",
    "**`.upper()`, `.lower()`, `swapcase()`는 사용하지 말아주세요.**\n",
    "\n",
    "**Tip! 문자와 숫자에는 특별한 관계가 있습니다. Google에서 아스키 코드를 참고하세요**\n",
    "\n",
    "```python\n",
    "# 예시\n",
    "print(my_swapcase('hello, World!')) # => HELLO, wORLD!\n",
    "print(my_swapcase('@_@')) # => @_@\n",
    "print(my_swapcase('2^3은 8이다!')) # => 2^3은 8이다!\n",
    "```"
   ]
  },
  {
   "cell_type": "code",
   "execution_count": null,
   "metadata": {},
   "outputs": [],
   "source": [
    "# 아래에 코드를 작성해주세요.\n",
    "# ord() 와 chr() 활용하기"
   ]
  },
  {
   "cell_type": "code",
   "execution_count": 3,
   "metadata": {},
   "outputs": [],
   "source": [
    "# 강사님 코드\n",
    "def my_swapcase(word):\n",
    "    result = ''\n",
    "    for char in word:\n",
    "        ascii_char = ord(char) # 아스키코드 숫자로 변경\n",
    "        if 65 <= ascii_char <= 90: # A~Z\n",
    "            result += chr(ascii_char+32) # 대 -> 소\n",
    "        elif 97 <= ascii_char <= 122: # a~z\n",
    "            result += chr(ascii_char-32) # 소 -> 대\n",
    "        else:\n",
    "            result += char\n",
    "    return result"
   ]
  },
  {
   "cell_type": "code",
   "execution_count": 4,
   "metadata": {},
   "outputs": [
    {
     "name": "stdout",
     "output_type": "stream",
     "text": [
      "HELLO, wORLD!\n",
      "@_@\n",
      "2^3은 8이다!\n"
     ]
    }
   ],
   "source": [
    "print(my_swapcase('hello, World!'))\n",
    "print(my_swapcase('@_@'))\n",
    "print(my_swapcase('2^3은 8이다!'))"
   ]
  },
  {
   "cell_type": "markdown",
   "metadata": {},
   "source": [
    "# 메소드 없는 세상 <2>\n",
    "\n",
    "> 우리는 문자열을 만들어 나갈 때, `.join(iterable)` 함수를 사용합니다. \n",
    ">\n",
    "> `.join(iterable)`이 생각나지 않을 때를 위해 직접 만들어보면서 감사함을 느껴봅시다.\n",
    ">\n",
    "> `my_join(target, word)`를 만들어 문자열을 반환해주세요.\n",
    ">\n",
    "> target은 바꿀 대상(iterable)이며, word는 합쳐지는 단어입니다. \n",
    "\n",
    "---\n",
    "\n",
    "\n",
    "예시)\n",
    "\n",
    "`''.join(a)` 와 `my_join(a, '')`은 같은 함수 호출입니다.\n",
    "\n",
    "```python\n",
    "print(my_join('배고파', '.')) # => 배.고.파\n",
    "print(my_join(['1', '2', '3'], '')) # => 123\n",
    "```"
   ]
  },
  {
   "cell_type": "code",
   "execution_count": null,
   "metadata": {},
   "outputs": [],
   "source": [
    "# 아래에 코드를 작성해주세요."
   ]
  },
  {
   "cell_type": "code",
   "execution_count": 48,
   "metadata": {},
   "outputs": [],
   "source": [
    "def my_join(target, word):\n",
    "\n",
    "    # string일 경우    \n",
    "    if type(target) == str:\n",
    "        result = ''\n",
    "        for tar in target:\n",
    "            result += tar + word\n",
    "        return result[:-1]\n",
    "    \n",
    "    # list일 경우\n",
    "    if type(target) == list:\n",
    "        result = ''\n",
    "        for tar in range(len(target)):\n",
    "            result += target[tar] + word\n",
    "        return result\n",
    "        "
   ]
  },
  {
   "cell_type": "code",
   "execution_count": 7,
   "metadata": {},
   "outputs": [],
   "source": [
    "# 강사님 코드\n",
    "def my_join(target, word):\n",
    "    result = target[0]\n",
    "    for i in target[1:]:\n",
    "        result += word + i\n",
    "    return result"
   ]
  },
  {
   "cell_type": "code",
   "execution_count": 8,
   "metadata": {},
   "outputs": [
    {
     "name": "stdout",
     "output_type": "stream",
     "text": [
      "배.고.파\n",
      "123\n"
     ]
    }
   ],
   "source": [
    "print(my_join('배고파', '.'))\n",
    "print(my_join(['1', '2', '3'], ''))"
   ]
  },
  {
   "cell_type": "markdown",
   "metadata": {},
   "source": [
    "#  가능한 적게 변경하기\n",
    "\n",
    "> 대문자와 소문자가 혼합되어 있는 문자열어 주어지며\n",
    ">\n",
    "> 다음의 기준에 따라서 문자열을 소문자 혹은 대문자로 변환하세요.\n",
    "\n",
    "\n",
    "*  가능한 적게 변경하세요.\n",
    "*  만약에 문자열의 대문자 혹은 소문자가 같다면, 문자열을 모두 소문자로 변경하세요.\n",
    "\n",
    "--- \n",
    "\n",
    "```python\n",
    "# 예시 입력) \n",
    "print(solve('coDe'))\n",
    "print(solve('CODe'))\n",
    "print(solve('coDE'))\n",
    "\n",
    "# 예시 출력)\n",
    "'code'\n",
    "'CODE'\n",
    "'code'\n",
    "```"
   ]
  },
  {
   "cell_type": "code",
   "execution_count": null,
   "metadata": {},
   "outputs": [],
   "source": [
    "# 아래에 코드를 작성해주세요."
   ]
  },
  {
   "cell_type": "code",
   "execution_count": 67,
   "metadata": {},
   "outputs": [],
   "source": [
    "def solve(chars):\n",
    "    # 대문자 개수 세기\n",
    "    capital_count = 0 # 대문자 개수를 셀 변수\n",
    "    for char in chars:\n",
    "        if char.isupper():\n",
    "            capital_count += 1\n",
    "            \n",
    "    # 소문자 개수\n",
    "    lower_count = len(chars) - capital_count\n",
    "    \n",
    "    # 개수가 같거나 소문자가 많을 경우\n",
    "    if lower_count >= capital_count:\n",
    "        return chars.lower()\n",
    "    # 대문자가 많을 경우\n",
    "    else:\n",
    "        return chars.upper()\n",
    "        "
   ]
  },
  {
   "cell_type": "code",
   "execution_count": 9,
   "metadata": {},
   "outputs": [],
   "source": [
    "# 1\n",
    "def solve(words):\n",
    "    # 대소문자를 각자 카운드\n",
    "    upper = 0 # 대문자를 카운드할 변수\n",
    "    lower = 0 # 소문자를 카운드할 변수\n",
    "    \n",
    "    for word in words:\n",
    "        if word.islower():\n",
    "            lower += 1\n",
    "        else:\n",
    "            upper += 1\n",
    "    \n",
    "    # 두 개의 카운트 값을 비교해서 원본을 변경.\n",
    "    if lower == upper or lower > upper:\n",
    "        return words.lower()\n",
    "    else:\n",
    "        return words.upper()"
   ]
  },
  {
   "cell_type": "code",
   "execution_count": null,
   "metadata": {},
   "outputs": [],
   "source": [
    "# 2\n",
    "# 대문자만 카운트 / 원본 길이의 절반보다 많으면 대문자로 변경, 아니면 소문자로 변경\n",
    "def solve(words):\n",
    "    count = 0\n",
    "    for word in words:\n",
    "        if word.isupper():\n",
    "            count += 1\n",
    "    \n",
    "    if count > len(words)/2:\n",
    "        return words.upper()\n",
    "    else:\n",
    "        return words.lower()"
   ]
  },
  {
   "cell_type": "code",
   "execution_count": 17,
   "metadata": {},
   "outputs": [],
   "source": [
    "# 3 2번을 comprehension으로 변경\n",
    "def solve(words):\n",
    "    count = sum([1 for word in words if word.isupper()])\n",
    "    if count > len(words)/2:\n",
    "        return words.upper()\n",
    "    else:\n",
    "        return words.lower()"
   ]
  },
  {
   "cell_type": "code",
   "execution_count": 18,
   "metadata": {},
   "outputs": [
    {
     "name": "stdout",
     "output_type": "stream",
     "text": [
      "code\n",
      "CODE\n",
      "code\n"
     ]
    }
   ],
   "source": [
    "print(solve('coDe'))\n",
    "print(solve('CODe'))\n",
    "print(solve('coDE'))"
   ]
  },
  {
   "cell_type": "markdown",
   "metadata": {},
   "source": [
    "# 숨바꼭질\n",
    "\n",
    "> 숫자가 주어지면, 사용되지 않은 숫자를 프린트하세요.\n",
    "\n",
    "---\n",
    "\n",
    "```python\n",
    "# 예시)\n",
    "unused_digits(12, 34, 56, 78) # => '09'\n",
    "\n",
    "unused_digits(2015, 8, 26)  # => '3479'\n",
    "```\n",
    "\n",
    "\n",
    "**결과값은 정렬되어야 합니다.**\n",
    "\n"
   ]
  },
  {
   "cell_type": "code",
   "execution_count": null,
   "metadata": {},
   "outputs": [],
   "source": [
    "# 아래에 코드를 작성해주세요."
   ]
  },
  {
   "cell_type": "code",
   "execution_count": 115,
   "metadata": {},
   "outputs": [],
   "source": [
    "def unused_digits(*numbers):\n",
    "    # 하나의 문자열로 합침\n",
    "    new_string = ''\n",
    "    for i in range(0, len(numbers)):\n",
    "        new_string += str(numbers[i])\n",
    "        \n",
    "    # 비교할 숫자 모음\n",
    "    decimals = '0123456789'\n",
    "    \n",
    "    # new_string 안에 decimal 이 있는지 확인 후 넣어주기\n",
    "    result = ''\n",
    "    for decimal in decimals:\n",
    "        # 안에 없으면 추가\n",
    "        if decimal not in new_string:\n",
    "            result += decimal\n",
    "    return result\n",
    "            "
   ]
  },
  {
   "cell_type": "code",
   "execution_count": 23,
   "metadata": {},
   "outputs": [],
   "source": [
    "# 강사님 코드\n",
    "# set을 활용할 것.\n",
    "# 비교할 수 있는 set 구문을 하나 만들고 set('0123456789') => \n",
    "# 입력된 값도 문자열 타입 + set로 변경해서\n",
    "# 비교 set에서 입력된 set를 뺄거임.\n",
    "# 그러면 안 쓴 번호만 남게 되는데 개를 정렬하고 문자열로 합치면 됨.\n",
    "\n",
    "def unused_digits(*args): # 가변인자: 인자가 몇 개 들어올 수 없을 때\n",
    "    word = set('0123456789') # set(map(str, range(10)))\n",
    "    for arg in args:\n",
    "        word -= set(str(arg))\n",
    "    return ''.join(word)"
   ]
  },
  {
   "cell_type": "markdown",
   "metadata": {},
   "source": [
    "iterable: 시퀀스(문자열, 리스트, 튜플...)\n",
    "\n",
    "collection: set, dict, ... (collection도 iterable에 포함된다고 말할 수 있음)\n",
    "\n",
    "보통 iterble가능한 변수를 대상으로 collection을 사용할 수 있다."
   ]
  },
  {
   "cell_type": "code",
   "execution_count": 20,
   "metadata": {},
   "outputs": [
    {
     "name": "stdout",
     "output_type": "stream",
     "text": [
      "{'1', '2', '5', '7', '4', '9', '8', '6', '3', '0'}\n"
     ]
    }
   ],
   "source": [
    "# set()은 문자열을 딕셔너리 개별요소로 만들어줌\n",
    "word = set('0123456789')\n",
    "print(word)"
   ]
  },
  {
   "cell_type": "code",
   "execution_count": 24,
   "metadata": {},
   "outputs": [
    {
     "name": "stdout",
     "output_type": "stream",
     "text": [
      "90\n",
      "7493\n",
      "90\n"
     ]
    }
   ],
   "source": [
    "print(unused_digits(12, 34, 56, 78))\n",
    "print(unused_digits(2015, 8, 26))\n",
    "print(unused_digits(12, 34, 56, 78, 12))"
   ]
  },
  {
   "cell_type": "markdown",
   "metadata": {},
   "source": [
    "# 짝홀짝홀"
   ]
  },
  {
   "cell_type": "markdown",
   "metadata": {},
   "source": [
    "> n개의 양의 정수 리스트가 주어지면, 홀수와 짝수를 분리하고 각각의 조건에 맞게 홀수와 짝수를 \n",
    "정렬하세요.\n",
    "\n",
    "> 조건\n",
    "1. 짝수와 홀수가 번갈아 가면서 나오게 됩니다.\n",
    "2. 짝수가 먼저 시작됩니다.\n",
    "3. 짝수는 오름차순으로 홀수는 내림차순으로 되어야합니다.\n",
    "\n",
    "> 실습 입력 인자 조건\n",
    "1. 인자 리스트의 크기는 적어도 4이상입니다.\n",
    "2. 인자 리스트의 요소값으로 0은 존재하지 않습니다.\n",
    "3. 인자 리스트의 요소값이 반복될 수 있으나 출력할 때는 중복 값이 없습니다.\n",
    "\n",
    "```python\n",
    "# 예시) \n",
    "\n",
    "print(even_and_odd([7, 3 , 14 , 17]))\n",
    "# => [14, 17, 7, 3]\n",
    "\n",
    "print(even_and_odd([1, 3, 5, 7, 9, 11]))\n",
    "# => [11, 9, 7, 5, 3, 1]\n",
    "\n",
    "print(even_and_odd([1, 2, 2, 4, 4, 6, 6, 2004, 9, 11]))\n",
    "# => [2, 11, 4, 9, 6, 1, 2004]\n",
    "```"
   ]
  },
  {
   "cell_type": "code",
   "execution_count": 117,
   "metadata": {},
   "outputs": [],
   "source": [
    "# 여기에 코드를 작성하세요"
   ]
  },
  {
   "cell_type": "code",
   "execution_count": 154,
   "metadata": {},
   "outputs": [],
   "source": [
    "def even_and_odd(num_lists):\n",
    "    # 중복부터 없애주기\n",
    "    num_lists = list(set(num_lists)) # set은 딕셔너리로 변환해줌. 따라서 다시 리스트로.\n",
    "    # 홀짝 나누어 리스트에 담기\n",
    "    even_lists = []\n",
    "    odd_lists = []\n",
    "    for num in num_lists:\n",
    "        # 홀수일 경우\n",
    "        if num % 2:\n",
    "            odd_lists.append(num)\n",
    "        # 짝수일 경우\n",
    "        else:\n",
    "            even_lists.append(num)\n",
    "            \n",
    "    # 짝수는 오름차순\n",
    "    even_lists.sort()\n",
    "    # 홀수는 내림차순\n",
    "    odd_lists.sort(reverse=True)    \n",
    "\n",
    "    # 두 리스트의 길이의 합 동안 번갈아 넣기\n",
    "    result = []\n",
    "    for i in range(len(even_lists)+len(odd_lists)):\n",
    "        # 짝수 리스트에 있는 요소부터 넣어줌.\n",
    "        # 단, 요소가 있는 경우에만 -> 리스트의 크기가 i보다 클 때만(길이 1인 리스트는 [0]번 인덱스만 가짐.\n",
    "        if len(even_lists) > i:\n",
    "            result.append(even_lists[i])\n",
    "        # 그 다음엔 홀수 리스트에 있는 요소 넣어줌. 단, 마찬가지로 리스트에 요소가 없으면(리스트 길이가 i보다 작을 경우) 걍 넘김\n",
    "        if len(odd_lists) > i:\n",
    "            result.append(odd_lists[i])\n",
    "            \n",
    "    return result"
   ]
  },
  {
   "cell_type": "markdown",
   "metadata": {},
   "source": [
    "sort와 sorted의 차이.\n",
    "\n",
    "사용법 \n",
    "\n",
    "iterable.sort() : sort() 자체는 None을 리턴. 대신 iterable변수 자체를 정렬함.\n",
    "\n",
    "sorted(iterable) : sorted(iterable)는 인자를 받아야 하며 정렬된 값을 리턴. 대신 iterable 변수 자체는 건들지 않고 새로운 값을 리턴함.\n"
   ]
  },
  {
   "cell_type": "code",
   "execution_count": 27,
   "metadata": {},
   "outputs": [],
   "source": [
    "# 강사님 코드\n",
    "# 1 pop()의 가장 큰 특징 -> return 값이 있다.\n",
    "# set으로 중복 제거 후 리스트로 변경 후 정렬\n",
    "def even_and_odd(numbers):\n",
    "    numbers = sorted(list(set(numbers)))\n",
    "    even = []\n",
    "    odd = []\n",
    "    \n",
    "    for number in numbers:\n",
    "        if number % 2:\n",
    "            odd.append(number)\n",
    "        else:\n",
    "            even.append(number)\n",
    "    even = even[::-1] # 짝수는 내림차순으로 변경(아래에서 pop으로 뒤에서부터 꺼낼 것이기 때문.)\n",
    "    \n",
    "    # 짝수리스트와 홀수리스트가 모두 빌때까지 반복 / 새로운 결과 리스트에 삽입\n",
    "    result = []\n",
    "    while True:\n",
    "        if len(even)==0 and len(odd)==0:\n",
    "            break\n",
    "        if len(even):\n",
    "            result.append(even.pop())\n",
    "        if len(odd):\n",
    "            result.append(odd.pop())\n",
    "            \n",
    "    return result"
   ]
  },
  {
   "cell_type": "code",
   "execution_count": 28,
   "metadata": {
    "scrolled": true
   },
   "outputs": [
    {
     "name": "stdout",
     "output_type": "stream",
     "text": [
      "[14, 17, 7, 3]\n",
      "[11, 9, 7, 5, 3, 1]\n",
      "[2, 11, 4, 9, 6, 1, 2004]\n"
     ]
    }
   ],
   "source": [
    "print(even_and_odd([7, 3, 14, 17]))\n",
    "print(even_and_odd([1, 3, 5, 7, 9, 11]))\n",
    "print(even_and_odd([1, 2, 2, 4, 4, 6, 6, 2004, 9, 11]))"
   ]
  },
  {
   "cell_type": "markdown",
   "metadata": {},
   "source": [
    "# 문자열 계산하기\n",
    "\n",
    "> 아래와 같이 문자열이 주어졌을 때, 바보같은 사용자를 위해 계산을 해주려고 한다.\n",
    ">\n",
    "> 이 계산기는 더하기와 빼기밖에 못한다.\n",
    ">\n",
    "> `calc(equation)`을 만들어봅시다.\n",
    "\n",
    "\n",
    "```python\n",
    "# 예시\n",
    "calc('123+2-124')\n",
    "#=> 1\n",
    "\n",
    "calc('-12+12-7979+9191')\n",
    "#=> 1212\n",
    "\n",
    "calc('+1-1+1-1+1-1+1-1+1-1+1-1+1-1+1-1+1-1+1-1+1-1+1-1+1-1+1-1+1-1+1-1')\n",
    "#=> 0\n",
    "```"
   ]
  },
  {
   "cell_type": "code",
   "execution_count": null,
   "metadata": {},
   "outputs": [],
   "source": [
    "# 여기에 코드를 작성하세요."
   ]
  },
  {
   "cell_type": "code",
   "execution_count": 222,
   "metadata": {},
   "outputs": [],
   "source": [
    "def calc(equation):\n",
    "    # equation의 첫 글자를 직접 비교\n",
    "    # +, - 등의 연산자는 type을 볼 수 없다.\n",
    "    # 어쩔 수 없이 직접 비교\n",
    "    # 맨 앞에 부호가 없는 경우 '+'를 붙여 통일시켜줌.\n",
    "    if equation[0] != '-' and equation[0] != '+':\n",
    "        equation = '+' + equation\n",
    "    \n",
    "    new_string = ''\n",
    "    result = []\n",
    "    # 첫 부호 처리가 힘드니까 미리 담아줌.\n",
    "    new_string = new_string + equation[0]\n",
    "    # 인덱스로 접근\n",
    "    for i in range(1, len(equation)):\n",
    "        # 각 인덱스를 합치다가 부호를 만나면 리스트에 int형으로 담을거야.\n",
    "        if equation[i] == '-' or equation[i] == '+':\n",
    "\n",
    "            result.append(new_string)\n",
    "            new_string = '' + equation[i]\n",
    "        else:\n",
    "            new_string += equation[i]\n",
    "    result.append(new_string)\n",
    "\n",
    "    return sum(list(map(int, result)))"
   ]
  },
  {
   "cell_type": "code",
   "execution_count": 33,
   "metadata": {},
   "outputs": [],
   "source": [
    "# 강사님 코드\n",
    "# 1 replace()\n",
    "# '+' => ' +' ----> +1 -1 -1 +1\n",
    "def calc(equation):\n",
    "    equation = equation.replace('+', ' +')\n",
    "    equation = equation.replace('-', ' -')\n",
    "    \n",
    "    result = equation.split() # 공백을 기준으로 리스트 내부의 요소로 바꿔줌\n",
    "    return sum(map(int, result))"
   ]
  },
  {
   "cell_type": "code",
   "execution_count": 35,
   "metadata": {},
   "outputs": [],
   "source": [
    "# 학생들 코드\n",
    "def calc(equation): ##매우짧은것\n",
    "    return eval(equation)"
   ]
  },
  {
   "cell_type": "code",
   "execution_count": null,
   "metadata": {},
   "outputs": [],
   "source": [
    "# 학생들 코드\n",
    "def calc(equations):\n",
    "    new_str = ''\n",
    "    res_cal = 0\n",
    "    for equation in equations:\n",
    "        if equation.isdecimal():\n",
    "            new_str += equation\n",
    "        else:\n",
    "            if new_str:\n",
    "                res_cal += int(new_str)\n",
    "                new_str = ''\n",
    "            new_str += equation\n",
    "    res_cal += int(new_str)\n",
    "    return res_cal"
   ]
  },
  {
   "cell_type": "code",
   "execution_count": 36,
   "metadata": {},
   "outputs": [
    {
     "name": "stdout",
     "output_type": "stream",
     "text": [
      "1\n",
      "1212\n",
      "0\n"
     ]
    }
   ],
   "source": [
    "print(calc('123+2-124'))\n",
    "print(calc('-12+12-7979+9191'))\n",
    "print(calc('+1-1+1-1+1-1+1-1+1-1+1-1+1-1+1-1+1-1+1-1+1-1+1-1+1-1+1-1+1-1+1-1'))"
   ]
  },
  {
   "cell_type": "code",
   "execution_count": null,
   "metadata": {},
   "outputs": [],
   "source": []
  }
 ],
 "metadata": {
  "kernelspec": {
   "display_name": "Python 3",
   "language": "python",
   "name": "python3"
  },
  "language_info": {
   "codemirror_mode": {
    "name": "ipython",
    "version": 3
   },
   "file_extension": ".py",
   "mimetype": "text/x-python",
   "name": "python",
   "nbconvert_exporter": "python",
   "pygments_lexer": "ipython3",
   "version": "3.7.3"
  },
  "latex_envs": {
   "LaTeX_envs_menu_present": true,
   "autoclose": false,
   "autocomplete": true,
   "bibliofile": "biblio.bib",
   "cite_by": "apalike",
   "current_citInitial": 1,
   "eqLabelWithNumbers": true,
   "eqNumInitial": 1,
   "hotkeys": {
    "equation": "Ctrl-E",
    "itemize": "Ctrl-I"
   },
   "labels_anchors": false,
   "latex_user_defs": false,
   "report_style_numbering": false,
   "user_envs_cfg": false
  },
  "toc": {
   "base_numbering": 1,
   "nav_menu": {},
   "number_sections": true,
   "sideBar": true,
   "skip_h1_title": false,
   "title_cell": "Table of Contents",
   "title_sidebar": "Contents",
   "toc_cell": false,
   "toc_position": {},
   "toc_section_display": true,
   "toc_window_display": false
  }
 },
 "nbformat": 4,
 "nbformat_minor": 2
}
