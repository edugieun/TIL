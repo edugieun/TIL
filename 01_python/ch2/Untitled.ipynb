{
 "cells": [
  {
   "cell_type": "code",
   "execution_count": 1,
   "metadata": {},
   "outputs": [],
   "source": [
    "avengers = [\n",
    "    {\n",
    "        \"name\": \"tony stark\",\n",
    "        \"gender\": \"male\",\n",
    "        \"appearances\": 3068,\n",
    "        \"years since joining\": 52\n",
    "    },\n",
    "    {\n",
    "        \"name\": \"robert bruce banner\",\n",
    "        \"gender\": \"male\",\n",
    "        \"appearances\": 2089,\n",
    "        \"years since joining\": 52\n",
    "    },\n",
    "    {\n",
    "        \"name\": \"thor odinson\",\n",
    "        \"gender\": \"male\",\n",
    "        \"appearances\": 2402,\n",
    "        \"years since joining\": 52\n",
    "    },\n",
    "    {\n",
    "        \"name\": \"steven rogers\",\n",
    "        \"gender\": \"male\",\n",
    "        \"appearances\": 3458,\n",
    "        \"years since joining\": 51\n",
    "    }\n",
    "]"
   ]
  },
  {
   "cell_type": "code",
   "execution_count": 21,
   "metadata": {},
   "outputs": [
    {
     "data": {
      "text/plain": [
       "{'과일': '사과', '옷': '바지'}"
      ]
     },
     "execution_count": 21,
     "metadata": {},
     "output_type": "execute_result"
    }
   ],
   "source": [
    "a = {}\n",
    "a['과일'] = '사과'\n",
    "a['옷'] = '바지'\n",
    "a"
   ]
  },
  {
   "cell_type": "code",
   "execution_count": null,
   "metadata": {},
   "outputs": [],
   "source": []
  }
 ],
 "metadata": {
  "kernelspec": {
   "display_name": "Python 3",
   "language": "python",
   "name": "python3"
  },
  "language_info": {
   "codemirror_mode": {
    "name": "ipython",
    "version": 3
   },
   "file_extension": ".py",
   "mimetype": "text/x-python",
   "name": "python",
   "nbconvert_exporter": "python",
   "pygments_lexer": "ipython3",
   "version": "3.7.3"
  },
  "toc": {
   "base_numbering": 1,
   "nav_menu": {},
   "number_sections": true,
   "sideBar": true,
   "skip_h1_title": false,
   "title_cell": "Table of Contents",
   "title_sidebar": "Contents",
   "toc_cell": false,
   "toc_position": {},
   "toc_section_display": true,
   "toc_window_display": false
  }
 },
 "nbformat": 4,
 "nbformat_minor": 2
}
