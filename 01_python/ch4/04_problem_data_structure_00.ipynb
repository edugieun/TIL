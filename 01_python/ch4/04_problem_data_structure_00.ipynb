{
 "cells": [
  {
   "cell_type": "markdown",
   "metadata": {},
   "source": [
    "# 최대공약수, 최소공배수 구하기\n",
    "\n",
    "> 두 수를 입력받아 두 수의 최대공약수와 최소공배수를 반환하는 함수, gcdlcm을 완성해 보세요.\n",
    ">\n",
    "> 배열의 맨 앞에 최대공약수, 그다음 최소공배수를 넣어 반환하면 됩니다. \n",
    ">\n",
    "> 예를 들어 두 수 3, 12의 최대공약수는 3, 최소공배수는 12이므로 `gcdlcm(3, 12)`는 `(3, 12)`를 반환해야 합니다. \n",
    "\n",
    "예시)\n",
    "\n",
    "```python\n",
    "print(gcdlcm(3, 12)) #=> (3, 12)\n",
    "print(gcdlcm(1071, 1029)) #=> (21, 52479)\n",
    "```"
   ]
  },
  {
   "cell_type": "code",
   "execution_count": null,
   "metadata": {},
   "outputs": [],
   "source": [
    "# 여기에 코드를 작성하세요.\n",
    "# 최소공배수 = 두 수의 곱 / 최대 공약수\n",
    "# 둘 중의 큰 수를 찾아서 작은 수로 나눠나가야 함. 더 이상 큰 수를 나눌 수 없을 때가 최대 공약수가 나온다."
   ]
  },
  {
   "cell_type": "code",
   "execution_count": 3,
   "metadata": {},
   "outputs": [],
   "source": [
    "def gcdlcm(num1, num2):\n",
    "    \n",
    "    num_tmp = 0\n",
    "    if num1 > num2:\n",
    "        num_tmp = num1\n",
    "        num1 = num2\n",
    "        num2 = num_tmp\n",
    "    \n",
    "    num1_div = [] # num1의 약수 리스트\n",
    "    num2_div = [] # num2의 약수 리스트\n",
    "    \n",
    "    for i in range(2, num1+1):\n",
    "        if num1%i == 0:\n",
    "            num1_div.append(i)\n",
    "\n",
    "    \n",
    "    for i in range(2, num2+1):\n",
    "        if num2%i == 0:\n",
    "            num2_div.append(i)\n",
    "            \n",
    "    max_div = None\n",
    "    \n",
    "    for i in num1_div:\n",
    "        for j in num2_div:\n",
    "            if i == j:\n",
    "                max_div = i\n",
    "                \n",
    "    min_mul = num1 * num2 / max_div\n",
    "    \n",
    "    return max_div, int(min_mul)"
   ]
  },
  {
   "cell_type": "code",
   "execution_count": 7,
   "metadata": {},
   "outputs": [],
   "source": [
    "# List comprehension 사용\n",
    "def gcdlcm(num1, num2):\n",
    "    \n",
    "    num_tmp = 0\n",
    "    if num1 > num2:\n",
    "        num_tmp = num1\n",
    "        num1 = num2\n",
    "        num2 = num_tmp\n",
    "        \n",
    "    num1_div = [i for i in range(2, num1+1) if num1%i == 0]\n",
    "    num2_div = [i for i in range(2, num2+1) if num2%i == 0]\n",
    "    \n",
    "    max_div = None   \n",
    "    for i in num1_div:\n",
    "        for j in num2_div:\n",
    "            if i == j:\n",
    "                max_div = i\n",
    "                \n",
    "    min_mul = num1 * num2 / max_div\n",
    "    \n",
    "    return max_div, int(min_mul)"
   ]
  },
  {
   "cell_type": "code",
   "execution_count": 48,
   "metadata": {},
   "outputs": [],
   "source": [
    "# 강사님 코드\n",
    "def gcdlcm(n, m):\n",
    "    # a에 더 큰 수를 배치\n",
    "    a, b = max(n, m), min(n, m)\n",
    "    print(a, b)\n",
    "    while b > 0:\n",
    "        # 최대 공약수를 구하는 특이한 방법.\n",
    "        # 큰 수를 작은 수로 나눈 나머지가 0이 될 때, 나눈 수가 최대 공약수.\n",
    "        a, b = b, a%b\n",
    "        print(a, b)\n",
    "    return a, int(n*m / a)"
   ]
  },
  {
   "cell_type": "code",
   "execution_count": 49,
   "metadata": {},
   "outputs": [
    {
     "name": "stdout",
     "output_type": "stream",
     "text": [
      "12 3\n",
      "3 0\n",
      "(3, 12)\n",
      "1071 1029\n",
      "1029 42\n",
      "42 21\n",
      "21 0\n",
      "(21, 52479)\n"
     ]
    }
   ],
   "source": [
    "print(gcdlcm(3, 12))\n",
    "print(gcdlcm(1071, 1029))"
   ]
  },
  {
   "cell_type": "markdown",
   "metadata": {},
   "source": [
    "# 불쌍한 달팽이 - 고전 수학문제\n",
    "\n",
    ">달팽이는 낮 시간 동안에 기둥을 올라갑니다. 하지만 밤에는 잠을 자면서 어느 정도의 거리만큼미끄러집니다. (낮 시간 동안 올라간 거리보다는 적게 미끄러집니다) 달팽이가 기둥의 꼭대기에 도달하는 날까지 걸리는 시간을 계산하면 됩니다.\n",
    "\n",
    "> 당신의 함수에 들어가야 하는 3개의 인자는 다음과 같습니다.\n",
    "- 기둥의 높이(미터)\n",
    "- 낮 시간 동안 달팽이가 올라가는 거리(미터)\n",
    "- 달팽이가 야간에 잠을 자는 동안 미끄러지는 거리(미터)\n",
    "\n",
    "```python\n",
    "snail(100, 5, 2)\n",
    "# => 33\n",
    "```"
   ]
  },
  {
   "cell_type": "code",
   "execution_count": null,
   "metadata": {},
   "outputs": [],
   "source": [
    "# 여기에 코드를 작성하세요\n",
    "# 높이를 기준으로 낮시간 값은 높이-낮시간 / 밤시간 값은 높이+밤시간"
   ]
  },
  {
   "cell_type": "code",
   "execution_count": 52,
   "metadata": {},
   "outputs": [],
   "source": [
    "def snail(height, move, slip):\n",
    "    day = 0\n",
    "    distance = 0 \n",
    "    while distance < height:\n",
    "        day += 1\n",
    "        distance = (move-slip)*day\n",
    "\n",
    "    return day-1"
   ]
  },
  {
   "cell_type": "code",
   "execution_count": null,
   "metadata": {},
   "outputs": [],
   "source": [
    "# 강사님 코드\n",
    "def snail(height, day, night):\n",
    "    count = 0\n",
    "    # 남은 높이가 0이 되거나 0보다 작아지는 순간 반복문이 종료.\n",
    "    while True:\n",
    "        count += 1\n",
    "        heihgt -= day\n",
    "        if height <= 0:\n",
    "            return count\n",
    "        height += night"
   ]
  },
  {
   "cell_type": "code",
   "execution_count": 53,
   "metadata": {},
   "outputs": [
    {
     "name": "stdout",
     "output_type": "stream",
     "text": [
      "33\n"
     ]
    }
   ],
   "source": [
    "print(snail(100, 5, 2))"
   ]
  },
  {
   "cell_type": "markdown",
   "metadata": {},
   "source": [
    "# 무엇이 중복일까\n",
    "\n",
    "> 다음 리스트에서 중복되는 요소만 뽑아서 새로운 리스트에 옮기시오. \n",
    "\n",
    "```python\n",
    "# 입력)\n",
    "duplicated(['a', 'b', 'c', 'b', 'd', 'm', 'n', 'n', 'b'])\n",
    "\n",
    "# 출력)\n",
    "['b', 'n']\n",
    "```"
   ]
  },
  {
   "cell_type": "code",
   "execution_count": null,
   "metadata": {
    "scrolled": false
   },
   "outputs": [],
   "source": [
    "# 여기에 코드를 작성하시오."
   ]
  },
  {
   "cell_type": "code",
   "execution_count": 22,
   "metadata": {},
   "outputs": [],
   "source": [
    "def duplicated(args):\n",
    "    \n",
    "    new_args = set(args)\n",
    "    new_list1 = []\n",
    "    new_list2 = []\n",
    "    for arg in args:\n",
    "        if arg not in new_list1:\n",
    "            new_list1.append(arg)\n",
    "        else:\n",
    "            if arg not in new_list2:\n",
    "                new_list2.append(arg)\n",
    "    \n",
    "    return new_list2"
   ]
  },
  {
   "cell_type": "code",
   "execution_count": 54,
   "metadata": {},
   "outputs": [],
   "source": [
    "# 강사님 코드\n",
    "# .count() 사용\n",
    "def duplicated(words):\n",
    "    duplicates = []\n",
    "    for word in words:\n",
    "        # 만약에 현재 단어가 리스트에 2개 이상 있고, duplicates에 없다면\n",
    "        # 값을 추가해야 한다.\n",
    "        if words.count(word) > 1 and word not in duplicates:\n",
    "            duplicates.append(word)\n",
    "    return duplicates"
   ]
  },
  {
   "cell_type": "code",
   "execution_count": 58,
   "metadata": {},
   "outputs": [],
   "source": [
    "# 강사님 코드\n",
    "# set() 사용\n",
    "def duplicated(words):\n",
    "    # {} 자체가 set()을 나타낸다. 중괄호가 중복값을 없애준다.\n",
    "    return list({word for word in words if words.count(word) > 1})"
   ]
  },
  {
   "cell_type": "code",
   "execution_count": 59,
   "metadata": {},
   "outputs": [
    {
     "data": {
      "text/plain": [
       "['n', 'b']"
      ]
     },
     "execution_count": 59,
     "metadata": {},
     "output_type": "execute_result"
    }
   ],
   "source": [
    "duplicated(['a', 'b', 'c', 'b', 'd', 'm', 'n', 'n', 'b'])"
   ]
  },
  {
   "cell_type": "markdown",
   "metadata": {},
   "source": [
    "# 알파벳만 남기고 뒤집기\n",
    "\n",
    "> 문자열이 주어지면, 해당 문자열 중에서 알파벳이 아닌 문자는 전부 빼고 거꾸로 뒤집어 반환하는 함수를 작성하세요.\n",
    "\n",
    "```python\n",
    "# 예시) \n",
    "reverse_letter('krishan')\n",
    "'nahsirk'\n",
    "\n",
    "reverse_letter('ultr53o?n')\n",
    "'nortlu'\n",
    "```"
   ]
  },
  {
   "cell_type": "code",
   "execution_count": null,
   "metadata": {},
   "outputs": [],
   "source": [
    "# 여기에 코드를 작성하세요"
   ]
  },
  {
   "cell_type": "code",
   "execution_count": 45,
   "metadata": {},
   "outputs": [
    {
     "name": "stdout",
     "output_type": "stream",
     "text": [
      "edcba\n"
     ]
    }
   ],
   "source": [
    "a = 'abcde'\n",
    "print(a[::-1])"
   ]
  },
  {
   "cell_type": "code",
   "execution_count": 120,
   "metadata": {},
   "outputs": [],
   "source": [
    "def reverse_letter(chars):\n",
    "    \n",
    "    reverse_chars = chars[::-1] # slicing 사용 [::-1]는 문자열 전체를 뒤집음\n",
    "    new_chars = ''\n",
    "    \n",
    "    for i in reverse_chars:\n",
    "        if i.isalpha(): # .isalpha() 함수. 문자열 전체가 알파벳일 경우 True를 출력\n",
    "\n",
    "            new_chars += i\n",
    "            \n",
    "    return new_chars"
   ]
  },
  {
   "cell_type": "code",
   "execution_count": 66,
   "metadata": {},
   "outputs": [],
   "source": [
    "# 강사님 코드\n",
    "def reverse_letter(words):\n",
    "    result = []\n",
    "    for word in words:\n",
    "        if word.isalpha():\n",
    "            result.append(word)\n",
    "    return ''.join(result[::-1]) # 또는 reverse()"
   ]
  },
  {
   "cell_type": "code",
   "execution_count": 67,
   "metadata": {},
   "outputs": [],
   "source": [
    "# 강사님 코드\n",
    "def reverse_letter(words):\n",
    "    result = [word for word in words if word.isalpha()]\n",
    "    return ''.join(result[::-1]) # 또는 reverse()"
   ]
  },
  {
   "cell_type": "code",
   "execution_count": 69,
   "metadata": {},
   "outputs": [],
   "source": [
    "# 강사님 코드\n",
    "def reverse_letter(words):\n",
    "    result = ''\n",
    "    for word in words:\n",
    "        if word.isalpha():\n",
    "            result += word\n",
    "    return result[::-1]"
   ]
  },
  {
   "cell_type": "code",
   "execution_count": 70,
   "metadata": {},
   "outputs": [
    {
     "name": "stdout",
     "output_type": "stream",
     "text": [
      "nahsirk\n",
      "nortlu\n"
     ]
    }
   ],
   "source": [
    "print(reverse_letter('krishan'))\n",
    "print(reverse_letter('ultr53o?n'))"
   ]
  },
  {
   "cell_type": "markdown",
   "metadata": {},
   "source": [
    "# 편-안한 단어\n",
    "\n",
    "> (QWERTY 키보드를 사용하여 타이핑을 한다고 가정할 때) '편안한 단어'는 타이핑 할 때 **손을 번갈아 칠 수 있는 단어**를 말합니다.\n",
    ">\n",
    "> 단어를 인자로 받아 그것이 '편안한 단어'인지 여부를 True/False로 반환하는 함수를 만드세요.(모든 단어는 a ~ z까지 오름차순으로 구성된 문자열입니다.)\n",
    "\n",
    "> 문자 목록\n",
    "- 왼손: q, w, e, r, t, a, s, s, d, f, g, z, x, c, v, b\n",
    "- 오른손: y, u, i, o, p, h, j, k, l, n, m"
   ]
  },
  {
   "cell_type": "code",
   "execution_count": null,
   "metadata": {},
   "outputs": [],
   "source": [
    "# 여기에 코드를 작성하세요."
   ]
  },
  {
   "cell_type": "code",
   "execution_count": 71,
   "metadata": {},
   "outputs": [],
   "source": [
    "def comfortable_word(chars):\n",
    "    \n",
    "    left_keys = 'qwertasdfgzxcvb'\n",
    "    right_keys = 'yuiophjklnm'\n",
    "    \n",
    "    check = 0 # left_key = 0, right_key = 1\n",
    "    \n",
    "    for char in chars:\n",
    "        # 왼속을 쳤을 경우\n",
    "        if char in left_keys and check == 0:\n",
    "            check = 1\n",
    "        # 오른손을 쳤을 경우\n",
    "        elif char in right_keys and check == 1:\n",
    "            check = 0\n",
    "        # 같은 손을 쳤을 경우\n",
    "        else:\n",
    "            return False\n",
    "        \n",
    "    return True\n",
    "            \n",
    "    "
   ]
  },
  {
   "cell_type": "code",
   "execution_count": null,
   "metadata": {},
   "outputs": [],
   "source": [
    "# 강사님 코드\n",
    "def comfortable_word(words):\n",
    "    left_word, right_word = 'qwertasdfgzxcvb', 'yuiophjklnm'\n",
    "    # 왼속이면 True\n",
    "    left = True if words[0] in left_word else False\n",
    "    \n",
    "    # 2번째부터 비교 시작\n",
    "    for word in words[1:]:\n",
    "        # 2번째 나온 단어가 왼손이고, 앞 단어도 왼손이라면 False\n",
    "        if word in left_word and left:\n",
    "            return False\n",
    "        # 2번째 나온 단어가 오른손이고, 앞단어도 오른손이라면 False\n",
    "        if word in right_word and not left:\n",
    "            return False\n",
    "        # 만약 위 조건을 모두 만족하지 못했다면 편안한 단어이기 때문에 왼손 오른손이 변경된 것이다.\n",
    "        left = not left\n",
    "    return True"
   ]
  },
  {
   "cell_type": "code",
   "execution_count": 72,
   "metadata": {},
   "outputs": [
    {
     "name": "stdout",
     "output_type": "stream",
     "text": [
      "True\n",
      "False\n",
      "True\n",
      "False\n",
      "a,b,c\n"
     ]
    }
   ],
   "source": [
    "print(comfortable_word('qywu'))\n",
    "print(comfortable_word('apple'))\n",
    "print(comfortable_word('ajwidmcjdk'))\n",
    "print(comfortable_word('ajwidmkcjdk'))"
   ]
  },
  {
   "cell_type": "markdown",
   "metadata": {},
   "source": [
    "# 숫자패턴\n",
    "\n",
    ">원하는 행까지 아래의 패턴을 생성하는 함수를 작성하세요. 만약 인자가 0이나 음의 정수인 경우 빈 문자열('')로 반환하세요.\n",
    "> \n",
    "> 짝수가 인수로 전달되면 패턴은 통과된 짝수보다 작은 최대 홀수까지 계속되어야 합니다.\n",
    "\n",
    "```python\n",
    "# 예시 \n",
    "print(pattern(9)):\n",
    "\n",
    "1\n",
    "333\n",
    "55555\n",
    "7777777\n",
    "999999999\n",
    "\n",
    "print(pattern(6))\n",
    "1\n",
    "333\n",
    "55555\n",
    "```\n",
    "**유의\n",
    "패턴에 공백은 없습니다.**"
   ]
  },
  {
   "cell_type": "code",
   "execution_count": 111,
   "metadata": {},
   "outputs": [
    {
     "data": {
      "text/plain": [
       "False"
      ]
     },
     "execution_count": 111,
     "metadata": {},
     "output_type": "execute_result"
    }
   ],
   "source": [
    "# 여기에 코드를 작성하세요"
   ]
  },
  {
   "cell_type": "code",
   "execution_count": 90,
   "metadata": {},
   "outputs": [],
   "source": [
    "def pattern(num):\n",
    "    \n",
    "    if bool(num) == False:\n",
    "        return False\n",
    "    \n",
    "    for i in range(1, num+1, 2):\n",
    "        for j in range(0, i):\n",
    "            print(i, end='')\n",
    "        print()\n",
    "        \n",
    "    return ''"
   ]
  },
  {
   "cell_type": "code",
   "execution_count": 80,
   "metadata": {},
   "outputs": [],
   "source": [
    "# 강사님 코드\n",
    "# 1\n",
    "def pattern(n):\n",
    "    result = ''\n",
    "    if n % 2 == 0: # 짝수일 때\n",
    "        n -= 1\n",
    "    for x in range(1, n+1):\n",
    "        if x % 2: # 홀수\n",
    "            result += str(x) * x\n",
    "            if x != n:\n",
    "                result += '\\n'\n",
    "    return result"
   ]
  },
  {
   "cell_type": "code",
   "execution_count": 85,
   "metadata": {},
   "outputs": [],
   "source": [
    "# 2\n",
    "def pattern(n):\n",
    "    # 1부터 n 까지의 홀수 리스트를 생성\n",
    "    odd = [x for x in range(1, n+1) if x%2]\n",
    "    result = ''\n",
    "    for i in odd:\n",
    "        result += str(i)*i + '\\n'\n",
    "    return result"
   ]
  },
  {
   "cell_type": "code",
   "execution_count": 88,
   "metadata": {},
   "outputs": [],
   "source": [
    "# 3\n",
    "def pattern(n):\n",
    "    result = [str(x)*x for x in range(1, n+1) if x%2]\n",
    "    return '\\n'.join(result)"
   ]
  },
  {
   "cell_type": "code",
   "execution_count": 91,
   "metadata": {},
   "outputs": [
    {
     "name": "stdout",
     "output_type": "stream",
     "text": [
      "1\n",
      "333\n",
      "55555\n",
      "7777777\n",
      "999999999\n",
      "\n",
      "1\n",
      "333\n",
      "55555\n",
      "\n",
      "False\n",
      "False\n"
     ]
    }
   ],
   "source": [
    "# 해당 코드를 통해 올바른 결과가 나오는지 확인하세요.\n",
    "print(pattern(9))\n",
    "print(pattern(6))\n",
    "print(pattern(0))\n",
    "print(pattern(''))"
   ]
  },
  {
   "cell_type": "markdown",
   "metadata": {},
   "source": [
    "# 숫자가 좋아\n",
    "\n",
    "> 섞여있는 문자열 속에서 정수만 뽑아내 합을 반환하는 함수 `pick_and_sum`를 작성하세요.\n",
    "\n",
    "예시)\n",
    "```python\n",
    "print(pick_and_sum('The30quick20brown10f0x1203jumps914ov3r1349the102l4zy dog')) #=> 3635\n",
    "```"
   ]
  },
  {
   "cell_type": "code",
   "execution_count": null,
   "metadata": {},
   "outputs": [],
   "source": [
    "# 여기에 코드를 작성하세요."
   ]
  },
  {
   "cell_type": "code",
   "execution_count": 92,
   "metadata": {},
   "outputs": [],
   "source": [
    "def pick_and_sum(chars):\n",
    "    \n",
    "    num_list = []\n",
    "    char_tmp = ''\n",
    "    ex_char_check = 0\n",
    "    \n",
    "    for char in chars:\n",
    "        if char.isdecimal():\n",
    "            ex_char_check = 1\n",
    "            char_tmp += char\n",
    "        \n",
    "        elif ex_char_check and char.isdecimal() == False:\n",
    "            num_list.append(char_tmp)\n",
    "            char_tmp = ''\n",
    "            ex_char_check = 0\n",
    "    \n",
    "    int_num_list = [int(num) for num in num_list]\n",
    "    \n",
    "    return sum(int_num_list)"
   ]
  },
  {
   "cell_type": "code",
   "execution_count": 96,
   "metadata": {},
   "outputs": [],
   "source": [
    "# 강사님 코드\n",
    "# 1.\n",
    "# 결과를 낼 result 정수\n",
    "# 잠시 저장해 둘 num 문자열 하나\n",
    "\n",
    "def pick_and_sum(words):\n",
    "    result = 0\n",
    "    num = ''\n",
    "    for word in words:\n",
    "        if word.isdecimal():\n",
    "            num += word\n",
    "        elif num:\n",
    "            result += int(num)\n",
    "            num = ''\n",
    "    return result            "
   ]
  },
  {
   "cell_type": "code",
   "execution_count": 105,
   "metadata": {},
   "outputs": [],
   "source": [
    "# 2. replace() 메서드 사용\n",
    "# replace로 정수가 아닌 애들을 모두 공백으로 바꿈.\n",
    "\n",
    "def pick_and_sum(words):\n",
    "    \n",
    "    for word in words:\n",
    "        if not word.isdecimal():\n",
    "            words = words.replace(word, ' ')\n",
    "    return sum(map(int, words.split()))\n",
    "            "
   ]
  },
  {
   "cell_type": "code",
   "execution_count": 106,
   "metadata": {},
   "outputs": [
    {
     "name": "stdout",
     "output_type": "stream",
     "text": [
      "3635\n"
     ]
    }
   ],
   "source": [
    "# 해당 코드를 통해 올바른 결과가 나오는지 확인하세요.\n",
    "print(pick_and_sum('The30quick20brown10f0x1203jumps914ov3r1349the102l4zy dog'))"
   ]
  },
  {
   "cell_type": "code",
   "execution_count": null,
   "metadata": {},
   "outputs": [],
   "source": []
  }
 ],
 "metadata": {
  "kernelspec": {
   "display_name": "Python 3",
   "language": "python",
   "name": "python3"
  },
  "language_info": {
   "codemirror_mode": {
    "name": "ipython",
    "version": 3
   },
   "file_extension": ".py",
   "mimetype": "text/x-python",
   "name": "python",
   "nbconvert_exporter": "python",
   "pygments_lexer": "ipython3",
   "version": "3.7.3"
  },
  "latex_envs": {
   "LaTeX_envs_menu_present": true,
   "autoclose": false,
   "autocomplete": true,
   "bibliofile": "biblio.bib",
   "cite_by": "apalike",
   "current_citInitial": 1,
   "eqLabelWithNumbers": true,
   "eqNumInitial": 1,
   "hotkeys": {
    "equation": "Ctrl-E",
    "itemize": "Ctrl-I"
   },
   "labels_anchors": false,
   "latex_user_defs": false,
   "report_style_numbering": false,
   "user_envs_cfg": false
  },
  "toc": {
   "base_numbering": 1,
   "nav_menu": {},
   "number_sections": true,
   "sideBar": true,
   "skip_h1_title": false,
   "title_cell": "Table of Contents",
   "title_sidebar": "Contents",
   "toc_cell": false,
   "toc_position": {},
   "toc_section_display": true,
   "toc_window_display": false
  }
 },
 "nbformat": 4,
 "nbformat_minor": 2
}
