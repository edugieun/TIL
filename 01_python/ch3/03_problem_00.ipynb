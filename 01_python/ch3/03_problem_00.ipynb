{
 "cells": [
  {
   "cell_type": "markdown",
   "metadata": {},
   "source": [
    "# 종합소득세 계산하기\n",
    "\n",
    "> A라는 나라에서는 종합소득세는 과세표준 금액 구간에 따라 다른 세율이 적용됩니다.\n",
    "\n",
    "|과세표준액|세율|\n",
    "|-------|---|\n",
    "|1,200이하|6%|\n",
    "|1,200 ~ 4,600|15%|\n",
    "|4,600 ~ |35%|\n",
    "\n",
    "즉, 1,300만원을 벌었을 경우 `1,200\\*0.06 + 100\\*0.15`를 계산한 결과가 납부해야 하는 세액입니다.\n",
    "\n",
    "함수 `tax(won)`을 만들고 납부해야하는 세금의 결과를 반환하는 함수를 만들어보세요.\n",
    "\n",
    "---\n",
    "```\n",
    "예시)\n",
    "tax(1200) #=> 72.0\n",
    "tax(4600) #=> 582.0\n",
    "tax(5000) #=> 722.0\n",
    "```"
   ]
  },
  {
   "cell_type": "code",
   "execution_count": null,
   "metadata": {},
   "outputs": [],
   "source": [
    "# 여기에 코드를 작성하세요. 510 140"
   ]
  },
  {
   "cell_type": "code",
   "execution_count": null,
   "metadata": {},
   "outputs": [],
   "source": [
    "# 함수 선언\n",
    "def tax(won):\n",
    "    # 공식부\n",
    "    # 1200 이하일 경우 won*0.06\n",
    "    # 1200 초과 4600이하 1200*0.06 + (x-1200)*0.15\n",
    "    # 4600 초과 1200*0.06 + (4600-1200)*0.15 + (x-4600)*0.35\n",
    "    won = int(won) # 문자열 숫자 정수화\n",
    "    if won > 4600:\n",
    "        total_tax = 1200*0.06 + (4600-1200)*0.15 + (won-4600)*0.35\n",
    "    elif won > 1200:\n",
    "        total_tax = 1200*0.06 + (won-1200)*0.15\n",
    "    else:\n",
    "        total_tax = won*0.06\n",
    "    return total_tax\n",
    "\n",
    "# 함수 호출\n",
    "won = input()\n",
    "tax(won)"
   ]
  },
  {
   "cell_type": "code",
   "execution_count": null,
   "metadata": {},
   "outputs": [],
   "source": [
    "print(tax(1200))\n",
    "print(tax(4600))\n",
    "print(tax(5000))"
   ]
  },
  {
   "cell_type": "markdown",
   "metadata": {},
   "source": [
    "# 카쉐어링 요금 계산하기\n",
    "\n",
    "> 카쉐어링 서비스는 요금을 다음과 같이 계산합니다.\n",
    ">\n",
    "> 대여는 10분 단위로 가능합니다.\n",
    "> \n",
    "> 1. 대여 요금 : 10분당 1,200원\n",
    ">\n",
    "> 2. 보험료 : 30분당 525원 (50분을 빌리면, 1시간으로 계산됩니다.)\n",
    ">\n",
    "> 3. 주행 요금 : km당 170원 (주행 요금은 100km가 넘어가면, 넘어간 부분에 대하여 할인이 50% 적용됩니다.)\n",
    ">\n",
    "> 예) 160km를 달렸으면, 170\\*100 + 85 \\*60\n",
    ">\n",
    "> 양의 정수인 대여시간(분)과 주행거리를 받아 계산 결과를 반환하는 함수 fee(minute, distance)를 만들어보세요.\n",
    "---\n",
    "```\n",
    "예시) \n",
    "    fee(600, 50) #=> 91000\n",
    "    fee(600, 110) #=> 100350\n",
    "```"
   ]
  },
  {
   "cell_type": "code",
   "execution_count": null,
   "metadata": {},
   "outputs": [],
   "source": [
    "# 여기에 코드를 작성하세요."
   ]
  },
  {
   "cell_type": "code",
   "execution_count": null,
   "metadata": {},
   "outputs": [],
   "source": [
    "# 함수 선언\n",
    "def fee(minute, distance):\n",
    "    # 공식부\n",
    "    # 총 요금 = 대여 요금 + 보험료 + 주행 요금\n",
    "    price_total = 0\n",
    "    # 대여 요금 = minute / 10 * 1200\n",
    "    price_rent = minute / 10 * 1200\n",
    "    # 보험료 부분 : (minute // 30) * 525 그리고 (minute % 30) != 0 이면 + 525\n",
    "    price_ins = (minute // 30) * 525\n",
    "    if (minute % 30) != 0:\n",
    "        price_ins += 525\n",
    "    # 주행 요금 부분 : 100km 까지 170원. 그 이후부터는 85원\n",
    "    if distance <= 100:\n",
    "        price_dis = distance * 170\n",
    "    else:\n",
    "        price_dis = distance // 100 * 100 * 170 + distance % 100 * 85\n",
    "    \n",
    "    price_total = price_rent + price_ins + price_dis\n",
    "    return price_total\n"
   ]
  },
  {
   "cell_type": "code",
   "execution_count": null,
   "metadata": {
    "scrolled": true
   },
   "outputs": [],
   "source": [
    "print(fee(600, 50))\n",
    "print(fee(600, 110))\n",
    "# 대여요금 : 60*1200 = 72000\n",
    "# 보험료 : 20*525 = 10500\n",
    "# 주행 요금 : 17000+85*10 = 17850"
   ]
  },
  {
   "cell_type": "markdown",
   "metadata": {},
   "source": [
    "# 문자열 탐색\n",
    "\n",
    "> 문자열 요소로만 이루어진 리스트를 넣었을 때, 문자열 길이가 2 이상이고 주어진 문자열의 첫번째와 마지막 문자가 같은 문자열의 수를 세는 함수 `start_end`를 작성하시오.\n",
    "\n",
    "예시)\n",
    "\n",
    "```python\n",
    "start_end(['level', 'asdwe', 's', 'abceda', 'gsdwrtfg']) #=> 3\n",
    "```\n"
   ]
  },
  {
   "cell_type": "code",
   "execution_count": null,
   "metadata": {},
   "outputs": [],
   "source": [
    "# 여기에 코드를 작성하세요."
   ]
  },
  {
   "cell_type": "code",
   "execution_count": null,
   "metadata": {},
   "outputs": [],
   "source": [
    "def start_end(arg): # 리스트는 하나의 인자로 처리해서 그냥 arg로 받으면 되나?\n",
    "    count = 0\n",
    "    # 조건부\n",
    "    # arg에 있는 word를 하나씩 뽑으면서\n",
    "    for word in arg:\n",
    "        # word의 길이가 2 이상이면서 첫번째와 마지막 인덱스가 같으면\n",
    "        if len(word)>1 and word[0]==word[-1]: # 일반적으로 연산자 주변은 띄워주나, 다중으로 조건이 있을 경우 연산자를 붙여준다.\n",
    "            # count가 하나씩 증가\n",
    "            count += 1\n",
    "    return count"
   ]
  },
  {
   "cell_type": "code",
   "execution_count": null,
   "metadata": {},
   "outputs": [],
   "source": [
    "# 해당 코드를 통해 3이 나오는지 확인하세요.\n",
    "print(start_end(['level', 'asdwe', 's', 'abceda', 'gsdwrtfg']))"
   ]
  },
  {
   "cell_type": "code",
   "execution_count": null,
   "metadata": {},
   "outputs": [],
   "source": [
    "# Recommanded\n",
    "def func(parameter=5): # 인자로 들어간 경우는 연산자 주변 띄어쓰기 없음\n",
    "    pass\n",
    "# Not recommanded\n",
    "def func(parameter = 5):"
   ]
  },
  {
   "cell_type": "code",
   "execution_count": null,
   "metadata": {},
   "outputs": [],
   "source": [
    "# Recommanded\n",
    "y = x**2 + 5 # 우선 연산자는 붙여쓰는 것을 추천함\n",
    "x = (x+y) * (x-y)\n",
    "\n",
    "# Not recommanded\n",
    "y = x ** 2 + 5\n",
    "x = (x + y) * (x - y)"
   ]
  },
  {
   "cell_type": "code",
   "execution_count": null,
   "metadata": {},
   "outputs": [],
   "source": [
    "# Not recommanded\n",
    "if x > 10 and x % 2 ==0:\n",
    "    pass\n",
    "\n",
    "# Recommanded\n",
    "if x>10 and x%2==0:\n",
    "    pass\n",
    "\n",
    "list = [1,2,3]\n",
    "\n",
    "list = [1, 2, 3] # Recommanded. 괄호 옆의 숫자는 붙이고, 콤마(,) 뒤는 띄운다.\n",
    "\n",
    "list = [ 1, 2, 3 ]\n",
    "\n",
    "\n",
    "func(5) #Recommanded. 함수 옆 소괄호는 항상 붙어있어야 함.\n",
    "func (5)"
   ]
  },
  {
   "cell_type": "code",
   "execution_count": null,
   "metadata": {},
   "outputs": [],
   "source": [
    "my_bool = 6 > 5\n",
    "if my_bool == True:\n",
    "    return 'Hello'\n",
    "\n",
    "# Recommanded\n",
    "my_bool = 6 > 5\n",
    "if my_bool: # 이미 my_bool은 True 값이다. 위에 명확한 조건이 있으면 다음에 쓰이는 True 조건은 생략한다.\n",
    "    return 'Hello'\n"
   ]
  },
  {
   "cell_type": "markdown",
   "metadata": {},
   "source": [
    "\n",
    "# 이상한 덧셈\n",
    "\n",
    "> 숫자들을 받아서 양의 정수의 합을 구하는 함수 `positive_sum`을 작성하세요.\n",
    "\n",
    "예시)\n",
    "\n",
    "```python\n",
    "positive_sum(1,-4,7,12) #=> 20\n",
    "positive_sum(-1, -2, -3, -4) #=> 0\n",
    "```"
   ]
  },
  {
   "cell_type": "code",
   "execution_count": null,
   "metadata": {},
   "outputs": [],
   "source": [
    "# 여기에 코드를 작성하세요."
   ]
  },
  {
   "cell_type": "code",
   "execution_count": null,
   "metadata": {},
   "outputs": [],
   "source": [
    "def positive_sum(*args): # 인자가 여러 개 있을 경우('가변인자'라고 부름.) *arg로 다 받아버리나?\n",
    "    # ///필요 변수부\n",
    "    sum_num = 0\n",
    "    # ///조건부\n",
    "    # arg에 있는 number를 하나씩 뽑으면서\n",
    "    for number in args:\n",
    "        # number가 0보다 크면\n",
    "        if number > 0:\n",
    "            # sum_num 변수에 계속 더해서 누적\n",
    "            sum_num += number\n",
    "    return sum_num"
   ]
  },
  {
   "cell_type": "code",
   "execution_count": null,
   "metadata": {},
   "outputs": [],
   "source": [
    "# 해당 코드를 통해 20과 0이 나오는지 확인하세요.\n",
    "print(positive_sum(1,-4,7,12))\n",
    "print(positive_sum(-1, -2, -3, -4))"
   ]
  },
  {
   "cell_type": "markdown",
   "metadata": {},
   "source": [
    "# Collatz 추측\n",
    "\n",
    "> 1937년 Collatz란 사람에 의해 제기된 이 추측은, 주어진 수가 1이 될때까지 다음 작업을 반복하면, 모든 수를 1로 만들 수 있다는 추측입니다. 작업은 다음과 같습니다.\n",
    ">\n",
    "> 1. 입력된 수가 짝수라면 2로 나눕니다. \n",
    "> 2. 입력된 수가 홀수라면 3을 곱하고 1을 더합니다.\n",
    "> 3. 결과로 나온 수에 같은 작업을 1이 될 때까지 반복합니다.\n",
    ">\n",
    "> 예를 들어, 입력된 수가 6이라면 6→3→10→5→16→8→4→2→1 이 되어 총 8번 만에 1이 됩니다.\n",
    ">\n",
    "> 위 작업을 몇 번이나 반복해야하는지 반환하는 함수, collatz를 완성해 주세요.\n",
    ">\n",
    "> 단, 작업을 500번을 반복해도 1이 되지 않는다면 –1을 반환해 주세요.\n",
    "\n",
    "예시)\n",
    "\n",
    "```python\n",
    "collatz(6) #=> 8\n",
    "collatz(16) #=> 4\n",
    "collatz(27) #=> 111\n",
    "collatz(626331) #=> -1\n",
    "```"
   ]
  },
  {
   "cell_type": "code",
   "execution_count": null,
   "metadata": {},
   "outputs": [],
   "source": [
    "# 여기에 코드를 작성하세요."
   ]
  },
  {
   "cell_type": "code",
   "execution_count": null,
   "metadata": {},
   "outputs": [],
   "source": [
    "def collatz(arg):\n",
    "    # ///변수부\n",
    "    count = 0\n",
    "    # ///조건부\n",
    "    # 1이 아니면 반복\n",
    "    while arg != 1:\n",
    "        # 짝수인지 확인하는 식\n",
    "        if arg%2 == 0:\n",
    "            # 짝수면 2로 나눠\n",
    "            arg = arg / 2\n",
    "        # 홀수일 경우\n",
    "        else:\n",
    "            # 3을 곱하고 1을 더해\n",
    "            arg = arg * 3 + 1\n",
    "        # 위의 조건 확인 후 count 증가\n",
    "        count += 1\n",
    "    # 1이라서 반복문 나오면 count 리턴. 단, count의 값이 500번을 넘어가면 -1 리턴\n",
    "    if count <= 500:\n",
    "        return count\n",
    "    else:\n",
    "        return -1"
   ]
  },
  {
   "cell_type": "code",
   "execution_count": null,
   "metadata": {},
   "outputs": [],
   "source": [
    "# if 조건 표현식 활용\n",
    "def collatz(num):\n",
    "    \n",
    "    for i in range(500):\n",
    "        num = num/2 if num%2==0 else num*3+1\n",
    "        if num == 1:\n",
    "            return i + 1\n",
    "    return -1"
   ]
  },
  {
   "cell_type": "code",
   "execution_count": null,
   "metadata": {},
   "outputs": [],
   "source": [
    "# 해당 코드를 통해 8, 4, 111, -1 이 나오는지 확인하세요.\n",
    "print(collatz(6))\n",
    "print(collatz(16))\n",
    "print(collatz(27))\n",
    "print(collatz(626331))"
   ]
  },
  {
   "cell_type": "markdown",
   "metadata": {},
   "source": [
    "# 솔로 천국 만들기\n",
    "\n",
    "> 리스트가 주어집니다. 리스트의 각 요소는 숫자 0부터 9까지로 이루어져 있습니다. \n",
    ">\n",
    "> 이때, 리스트에서 연속적으로 나타나는 숫자는 하나만 남기고 전부 제거하려고 합니다. \n",
    ">\n",
    "> 리스트에서 연속적으로 나타나는 숫자는 제거하고 남은 수들을 반환하는 lonely 함수를 작성해 주세요.\n",
    ">\n",
    "> 단, 제거된 후 남은 수들을 반환할 때는 리스트의 요소들의 순서를 유지해야 합니다.  \n",
    "\n",
    "예시)\n",
    "\n",
    "```python\n",
    "lonely([1, 1, 3, 3, 0, 1, 1]) #=> [1, 3, 0, 1]\n",
    "lonely([4,4,4,3,3]) #=> [4,3]\n",
    "```\n"
   ]
  },
  {
   "cell_type": "code",
   "execution_count": null,
   "metadata": {},
   "outputs": [],
   "source": [
    "# 여기에 코드를 작성하세요."
   ]
  },
  {
   "cell_type": "code",
   "execution_count": null,
   "metadata": {},
   "outputs": [],
   "source": [
    "def lonely(args):\n",
    "    # 리스트에 있는 중복을 제거하여 딕셔너리 형태로 만드는 함수는 set()\n",
    "    # 하지만 set은 알파벳 순서로 딕셔너리를 만들기 때문에 리스트의 순서가 바뀜\n",
    "    \"\"\"\n",
    "    new_arg = list(set(arg)) # set은 딕셔너리 형태이므로 다시 list 형변환\n",
    "    return new_arg\n",
    "    \"\"\"\n",
    "    # 리스트의 요소를 확인하면서 빈 리스트에 중복되지 않게 담아 다시 만들기\n",
    "    # ///변수부\n",
    "    new_list = [] # 빈 리스트 생성\n",
    "    ex_factor = None\n",
    "    # ///조건부\n",
    "    # 리스트 arg의 요소를 모두 확인\n",
    "    for factor in args:\n",
    "        \"\"\"\n",
    "        # 빈 리스트에 arg의 요소가 없으면 추가\n",
    "        if factor not in new_list:\n",
    "        \"\"\"\n",
    "        # 아. 중복을 지우는게 아니라 연속된 요소를 지우는 거네.\n",
    "        # 그러면, 직전에 빈 리스트에 넣은 요소랑 비교해서 같으면 안 넣는 조건\n",
    "        # 직전 요소와 이번 요소를 비교할 수 있는 변수가 필요. -> ex_factor = None\n",
    "        if factor != ex_factor:\n",
    "            new_list.append(factor) # append()는 리스트에 요소를 추가하는 내장 함수\n",
    "            ex_factor = factor # 추가 후, 직전 요소는 이번 요소로 업데이트\n",
    "    return new_list\n",
    "    \n",
    "   "
   ]
  },
  {
   "cell_type": "code",
   "execution_count": null,
   "metadata": {},
   "outputs": [],
   "source": [
    "def lonely(numbers):\n",
    "    # 최종 결과 리스트 생성 / 일단 첫번째 수는 들어가야 함. (인덱스0)\n",
    "    # 그 다음 들어가는 수는 현재 리스트의 마지막 요소 (인덱스 -1) 와 비교 후 판단.\n",
    "    result = []\n",
    "    for idx, num in enumerate(numbers): # enumerate는 list의 인덱스를 같이 불러옴.\n",
    "        # 첫 요소만 직접 집어넣고\n",
    "        if idx == 0:\n",
    "            result.append(num)\n",
    "        # 두 번째 요소부터 마지막으로 들어오 요소(인덱스 -1)과 비교하면서 넣음.\n",
    "        # 직전 값을 저장하는 변수 필요없이 직전 값을 마지막 인덱스로 표현.\n",
    "        if result[-1] != num:\n",
    "            result.append(num)\n",
    "    return result\n",
    "    "
   ]
  },
  {
   "cell_type": "code",
   "execution_count": null,
   "metadata": {
    "scrolled": true
   },
   "outputs": [],
   "source": [
    "# 해당 코드를 통해 [1, 3, 0, 1]과 [4, 3]이 나오는지 확인하세요.\n",
    "print(lonely([1, 1, 3, 3, 0, 1, 1]))\n",
    "print(lonely([4, 4, 4, 3, 3]))"
   ]
  },
  {
   "cell_type": "code",
   "execution_count": null,
   "metadata": {},
   "outputs": [],
   "source": []
  }
 ],
 "metadata": {
  "kernelspec": {
   "display_name": "Python 3",
   "language": "python",
   "name": "python3"
  },
  "language_info": {
   "codemirror_mode": {
    "name": "ipython",
    "version": 3
   },
   "file_extension": ".py",
   "mimetype": "text/x-python",
   "name": "python",
   "nbconvert_exporter": "python",
   "pygments_lexer": "ipython3",
   "version": "3.7.3"
  },
  "toc": {
   "base_numbering": 1,
   "nav_menu": {},
   "number_sections": true,
   "sideBar": true,
   "skip_h1_title": false,
   "title_cell": "Table of Contents",
   "title_sidebar": "Contents",
   "toc_cell": false,
   "toc_position": {},
   "toc_section_display": true,
   "toc_window_display": false
  }
 },
 "nbformat": 4,
 "nbformat_minor": 2
}
